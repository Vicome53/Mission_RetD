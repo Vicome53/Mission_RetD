{
 "cells": [
  {
   "cell_type": "markdown",
   "metadata": {},
   "source": [
    "# Algorithme des synonymes"
   ]
  },
  {
   "cell_type": "markdown",
   "metadata": {},
   "source": [
    "Voici l'algortihme que nous avons réalisé. A partir d'un mot et d'un champ lexical sous forme de liste cet algortihme ( la fonction AttribSyn ) renvoit la liste des synonymes de ce mot dans la sémantique du champ lexical.\n",
    "L'ensemble des fonctions sont nécessaire à notre Algorithme qui se trouve à la fin de ce code.\n",
    "Enfin des propostions d'ouvertures sont écrites à la fin."
   ]
  },
   "cell_type": "markdown",
   "metadata": {},
   "source": [
    "#### Importation des packages\n"
   ]
  },
  {
   "cell_type": "code",
   "execution_count": 1,
   "metadata": {},
   "outputs": [],
   "source": [
    "import mysql.connector\n",
    "import time\n",
    "from mysql.connector import Error\n"
   ]
  },
  {
   "cell_type": "markdown",
   "metadata": {},
   "source": [
    "#### Liste de champs lexicaux "
   ]
  },
  {
   "cell_type": "code",
   "execution_count": 2,
   "metadata": {},
   "outputs": [],
   "source": [
    "ChLexi = ['banque', 'credit','virement'] \n",
    "ChLexiB=['crédit','bancaire','banquier','paiement','finance','monnaie','chèque','emprunt','dépôt','faillite','succursale','prêt','financier','monétaire','billet','taux','épargne','investissement','capital','dette']#champ lexical + mot recherché \n",
    "ChLexiB30=['crédit','bancaire','billet','banquier','emprunt','financier','paiement','investissement','prêt','coupure','chèque','monétaire','monnaie','dépôt','dette','finance','change','liquidité','taux','remboursement','transaction','inflation','financement','faillite','FMI','devise','dollar','capital','assurance','emprunteur','épargne','succursale','trésor','endettement','argent','Banco','compte','escompte','euro','krach','portefeuille','fiduciaire','central','caisse','commerçant','BCE','Fed','financière','entreprise','économiste','actionnaire','interbancaire','marché','opération', 'placement','papier-monnaie']\n",
    "ChLexiB60=['crédit','bancaire','billet','banquier','emprunt','financier','paiement','investissement','prêt','coupure','chèque','monétaire','monnaie','dépôt','dette','finance','change','liquidité','taux','remboursement','transaction','inflation','financement','faillite','FMI','devise','dollar','capital','assurance','emprunteur','épargne','succursale','trésor','endettement','argent','Banco','compte','escompte','euro','krach','portefeuille','fiduciaire','central','caisse','commerçant','BCE','Fed','financière','entreprise','économiste','actionnaire','interbancaire','marché','opération','placement','papier-monnaie','mondial','nationalisation','Nobel','milliard','investisseur','bénéficiaire','blanchiment','braquage','comptabilité','comptoir','convertibilité','caissier','BNP','économie','courtier','épargnant','eurodollar','intérêt','institution','mutualiste','Paribas','service','refinancement','numéraire','law','créancier','courtage','émission','directeur','bourse','commission','commercial','convertible','client','agence','ajustement','dévaluation','garantie','international','Minitel','joue','guichet','parité','PIB','récession','réserve','risque','Rothschild','solde','stabilisation','télématique','suède','structurel','spéculation','privatisation','vacance','virement','PNUD','OCDE','inflationniste','Keynes','microfinance','gouverneur','dépréciation','débiteur','déposant','Berd','Brothers','BIRD','charger'] \n",
    "ChLexiV30=['pèlerinage','périple','expédition','valise','malle','Inde','exploration','passage','récit','Chine','voyageur','compagnon','escale','bagage','touriste','tournée','odyssée','pèlerin','tourisme','voyagiste','voyager','préparatif','retour','navigation','agence','déplacement','épopée','second','souvenir','tome','noce','chèque','navigateur','page','géographique','explorateur','information','détroit','affaire','berline','biographie','Bordeaux','bourlingueur','campagne','cantine','errance','album’,’naufrage']\n",
    "ChLexiMeuble=['mobilier','tiroir','lit','table','armoire','commode','immeuble','appartement','ébéniste','laqué','tapisserie','étagère','bien','cabinet','coffre','buffet','ameublement','chaise','déménagement','tapissier','siège','placard','hôtellerie','locataire','marqueterie','panetière','piétement','saisie','crédence'] \n",
    "ChLexiJeux=['olympique','sport','échec','loterie','joueur','olympiade','billard','athlète','pion','poker','tennis','vidéo','casse-tête','backgammon','paume','hockey','hasard','casino','coupe','whist','pelote','puzzle','roulette','golf','handball','palet','course','divertissement','Domino','carte','badminton','belote','pétanque','tarot','Scrabble','arène','argent','manche','fléchette','meneur','ludique','mah-jong','arbitre','bridge','Baccara','boss','bowling']\n",
    "ChLexiLivre=['édition','Bible','imprimerie','exemplaire','reliure','bibliothèque','Apocalypse','Coran','libraire','librairie','sterling','testament','presse','intitulé','ex-libris','Évangile','couverture','lire','missel','nombre','registre','once','livret','incunable','catéchisme','apocryphe','recueil','volume','tenue','relié','proverbe','rayon','tonne','autodafé','carnet','bouquin','commentaire','chapitre','critique','carrière','censure','bibliographie','bibliophile','bréviaire','format','éditeur','imprimé','fragment','illustration','ouvrage','poche','manuel','méthode','préface','psaume','relier','traduction']\n",
    "ChLexiPain=['boulanger','four','mie','boulangerie','baguette','seigle','soupe','levain','aliment','épice','sandwich','nourriture','céréale','eucharistie','levure','tartine','biscuit','pâte','farine','vin','blé','miche','azyme','tranche','beurre','hostie','manger','croûton','viande','boulette','communion','hamburger','cuisson','noix','toast','transsubstantiation','galette','huche','sucre','gâteau','grille-pain','panetière','biscotte','Christ','miette','orge','panification','pâtisserie','pauvre','ration','consécration','croûte','cuit','froment' ]\n",
    "ChLexiEcran=['affichage','ordinateur','projection','moniteur','pixel','Cinema','vidéo','résolution','visualisation','film','curseur','caméra','adaptation','image','téléviseur','télévision','stylet','tablette','cathodique','cinématographique','clavier','bouton','Apple','pare-soleil','numérique','spectateur','réalisateur','projecteur','rafraichissement','portable','pouce','iPhone','iPod','LCD','manette','LED','sous-pixel','visualiser','tactile','interface','Macintosh','optique','adaptateur','appareil','diapositive','définition','comédien','cristal','icône','Chaplin','cinémascope','balayage','plasma','pointage','fente','téléfilm','surface','toile','WYSIWYG','souris','RVB','présentateur','rétro','viseur','visuel','information','IMAX','papier','afficheur','iMac','Game','ClearType','diode','blanc','mode','photo','sortie','sous-titre','séducteur','western','virtuel']\n",
    "ChLexiAutomobile=['auto','véhicule','circulation','Peugeot','Renault','voiture','moteur','Citroën','Ford','garage','Audi','essence','carrosserie','rallye','Porsche','parking','moto','Indianapolis','constructeur','course','berline','automobiliste','circuit','textile','prix','Daimler','aéronautique','agroalimentaire','volant','transport','Volvo','autoroute','écurie','motocyclette','Monaco','mécanicien','mécanique','pneu','Monza','diesel','Ferrari','firme','cabriolet','camion','autodrome','Volkswagen','autoradio','auto-école','Benz','Bugatti','BMW','fangio','Fiat','décapotable','capot','piste','sidérurgie','Michigan','Monte-Carlo','karting','Lamborghini','jeep','Mercedes-Benz','Michelin','Sochaux','SUV','stationnement','Panhard','parcmètre','PSA','chrome','formule','accessoire','Toyota','usine','utilitaire','Villeneuve','taxi','Ascari','break','équipementier','Chrysler','carrossier','racing','Prost','NASCAR','nissan','sport','routier','secteur','Senna','Mercedes','industrie','Lancia','Silverstone','route','châssis','chauffeur','freinage','expertise','bicyclette','Buick','Cadillac','camping-car','pneumatique']\n",
    "ChLexiCuisine=['ustensile','cuisinier','cuisinière','culinaire','plat','poêle','recette','cuisson','gastronomie','graisse','curry','persil','pâtisserie','ragoût','légume','aliment','aubergine','fruit','casserole','sauce','soja','oignon','ingrédient','repas','coriandre','épice','beignet','salade','noix','pain','soupe','vaisselle','sushi','ail','Escoffier','basilic','batterie','couscous','charcuterie','saveur','rôti','préparation','salle','spécialité','petit-gris','piment','passe-plat','nouille','kitchenette','condiment','évier','four','cuisinette','friture','goût','gâteau','cuisiner','assaisonnement','cerfeuil','lèchefrite','manger','marmiton','poisson','popote','tourtière','volaille','table','poulet','œuf','mixeur','citron','cuisiniste','cuillère','broche','gingembre','gastronomique','fourchette','fourneau','linge','gril','civet','pizza','restaurant','réfectoire','sarriette','semoule','Tian','vaisselier','tripe','tuerie','verre']\n",
    "ChLexiTravaux=['elicenciement','travailleur','chômage','emploi','labeur','atelier','rémunération','productivité','prolétaire','salaire','activité','agriculture','social','manuel','outil','production','ingénieur','étude','employeur','entreprise','horaire','professionnel','grève','joule','fordisme','Job','collectif','corvée','recherche','organisation','scientifique','réparation','syndicat','tâche','taylorisme','science','mécanique','ouvrage','collectivisme','achèvement','analyse','bâtiment','entrepreneur','énergie','ergothérapie','laborieux','bénédictin','agriculteur','chantier','capitalisme','condition','rendement','prolétariat','terrassement','repos','résultat','restauration','traduction','travailler','prestation','poterie','projet','Nobel','maçon','conducteur','cabinet','chômeur','commission','collaboration','bénévole','agricole','galerie','entretien','embauche','élaboration']\n",
    "ChLexiTéléphone=['téléphonique','téléphonie','communication','mobile','appareil','smartphone','télégraphe','sonnerie','voix','récepteur','réseau','messagerie','cellulaire','annuaire','coup','câble','Bell','message','haut-parleur','joignable','radio','recharge','bureau','transfert','usager','Telecom','conversation','électrique','Gaga','service','numéro','onde','SMS','phone','port','distance','fax','fil','fixe','bonjour','cadran','combiné','appel','téléphoniste','transmettre','visiophone','texto','bigophone','portabilité','portable','ordiphone','natel','écouteur','mobilophoner','kit mains libres','mercatique téléphonique','iPhone']\n",
    "ChLexiMagasin=['boutique','supermarché','vitrine','entrepôt','distribution','achat','hypermarché','épicerie','vendeur','vêtement','stock','halle','approvisionnement','commercial','confection','librairie','munition','rayon','restaurant','galerie','marchandise','client','carrefour','nouveauté','bricolage','clientèle','chargeur','confiserie','animalerie','centre-ville','magasinier','immeuble','papeterie','poudrière','shopping' ]\n",
    "#mesure de similarité de recouvrement : jackart mesure de similarité avec la cardinalité des ensembles\n",
    "ChLexiVacances=['intérim','tourisme','touriste','scolaire','loisir','colonie','résidence','week-end','séjour','présidence','camping','adolescent','destination','monsieur','Noël','hôtel','enfance','garçon','pâque','vacancier','démission','régale','rentré','semaine','ski','stage','plage','saisonnier','départ','accueil','familial','enfant','hasard','bungalow','congé','empêchement','colo','duo','élection','décès','oncle','grand-parent','Vosges','repos','touristique','tournage','trousseau','tonne','prétexte','visiteur','vive','épiscopal','hâte','hébergement','inspection','instituteur','chic','animateur','atout','dimanche','estiver','grande vacance','jobiste','juilletiste']"
   ]
  },
  {
   "cell_type": "markdown",
   "metadata": {},
   "source": [
    "###  Fonction domaine et domaineMot\n"
   ]
  },
  {
   "cell_type": "markdown",
   "metadata": {},
   "source": [
    "##### Fonction domaine"
   ]
  },
  {
   "cell_type": "markdown",
   "metadata": {},
   "source": [
    "La fonction domaine prend en argument la liste comprenant le champ lexical. Celle ci renvoie une liste comprenant les mots qui sont en relation r_domain avec les mots du champ lexical. Nous appelerons ces mots issues de la relation r_domain des domaines. Chaque domaine est présent autant de fois qu'il est en relation r_domain avec les mots du champ lexical."
   ]
  },
  {
   "cell_type": "code",
   "execution_count": 3,
   "metadata": {},
   "outputs": [],
   "source": [
    "def domaine(A): #fonction qui prend la liste de mots du ChLexi et renvoie la liste des domaines.\n",
    "    Y1 = []\n",
    "    B= []\n",
    "    try:\n",
    "        mySQLconnection = mysql.connector.connect(host='localhost',\n",
    "                             database='jdm',\n",
    "                             user='user',\n",
    "                             password='pwd')\n",
    "        for k in A : \n",
    "            sql_select_Query = \"select eid from nodes where n='\"+k+\"' limit 1\"  # récupération des eid correspondant aux mots présent dans le champs lexical\n",
    "            cursor = mySQLconnection .cursor()\n",
    "            cursor.execute(sql_select_Query)\n",
    "            records = cursor.fetchall()\n",
    "            for row in records :\n",
    "                Y1.append(row[0])\n",
    "            cursor.close() \n",
    "        for  k in Y1 :\n",
    "            sql_select_Query = \"select n2 from relations where n1=\"+str(k)+\" and t = 3\"\n",
    "            cursor = mySQLconnection .cursor() # récupération des mots qui sont en relation r_domain avec l'eid k\n",
    "            cursor.execute(sql_select_Query)\n",
    "            records = cursor.fetchall()\n",
    "            for row in records :\n",
    "                B.append(row[0])\n",
    "            cursor.close()\n",
    "        \n",
    "    except Error as e :\n",
    "        print (\"Error while connecting to MySQL\", e)\n",
    "    \n",
    "    return B # Ressort une liste des mots en relation r_domain avec les mots composant le champ lexical sous format \"eid\""
   ]
  },
  {
   "cell_type": "markdown",
   "metadata": {},
   "source": [
    "##### Domaine1Mot"
   ]
  },
  {
   "cell_type": "markdown",
   "metadata": {},
   "source": [
    "La fonction domaine1Mot renvoie les mots qui sont en relation r-domain avec notre mot A ( au format eid )"
   ]
  },
  {
   "cell_type": "code",
   "execution_count": 4,
   "metadata": {},
   "outputs": [],
   "source": [
    "def domaine1Mot(A): # retourne le domaine d'un mot qui est sous format eid.\n",
    "    mySQLconnection= mysql.connector.connect(host='localhost',database='jdm',user='user',password='pwd')\n",
    "    sql2= \"select  n2 from relations where n1= \" +str(A)+\" and t=3\"\n",
    "    cursor=mySQLconnection.cursor()\n",
    "    cursor.execute(sql2)\n",
    "    records2=cursor.fetchall()\n",
    "    cursor.close()\n",
    "    B=[]\n",
    "    for i in records2:\n",
    "        B.append(i[0])\n",
    "    return B # ressort les domaines d'un mot sous format \"eid\" \n",
    "    "
   ]
  },
  {
   "cell_type": "markdown",
   "metadata": {},
   "source": [
    "### Attributions d'un score aux domaines et aux synonymes du mot recherché"
   ]
  },
  {
   "cell_type": "markdown",
   "metadata": {},
   "source": [
    "La fonction score_domaine attribue un score aux domaines en fonction du nombre d'occurence de ce dernier dans la liste issue de la fonction domaine."
   ]
  },
  {
   "cell_type": "code",
   "execution_count": 5,
   "metadata": {},
   "outputs": [],
   "source": [
    "def score_domaine(A): \n",
    "\n",
    "    B= dict()\n",
    "    for k in A :\n",
    "        if k not in B :\n",
    "            B[k]=1\n",
    "        else :\n",
    "            B[k]+=1\n",
    "    return B      # ressort un dictionnaires avec comme définition l'eid du domaine et comme valeur son poids     \n"
   ]
  },
  {
   "cell_type": "markdown",
   "metadata": {},
   "source": [
    "La fonction tri_dic permet de trier le dictionnaires des domaines en fonction de leur score"
   ]
  },
  {
   "cell_type": "code",
   "execution_count": 6,
   "metadata": {},
   "outputs": [],
   "source": [
    "def tri_dic(DictDomain) : # permet de trier le dictionnaire des domaines\n",
    "    liste_dico = sorted(DictDomain.items(), key=lambda t: t[1])\n",
    "    liste_dico.reverse()\n",
    "    dico2 = dict()\n",
    "    for i in range(len(liste_dico)):\n",
    "        dico2[liste_dico[i][0]] = liste_dico[i][1]\n",
    "    return dico2 # permet de trier le dico et le ressort de la même manière\n"
   ]
  },
  {
   "cell_type": "markdown",
   "metadata": {},
   "source": [
    "La fonction score_synonymes calcule le score d'un synonyme du mot recherché en regardant ses domaines et en les comparant au dictionnaire qui associe chaque dommaine à son score. Si un domaine est en commun, on ajoute le score associé au domaine au score du synonymes. "
   ]
  },
  {
   "cell_type": "code",
   "execution_count": 7,
   "metadata": {},
   "outputs": [],
   "source": [
    "def score_synonymes (syn,score_Y): # calcule le score d'un syonyme du mot recherché\n",
    "    L=domaine1Mot(syn) # on prend les domaines d'un mot au format EID\n",
    "    score_mots=0\n",
    "    for i in L:\n",
    "        if i in score_Y:\n",
    "            score_mots+=score_Y[i]\n",
    "    return score_mots # retourne le score d'un mot au format int    \n",
    "                \n",
    "                "
   ]
  },
  {
   "cell_type": "markdown",
   "metadata": {},
   "source": [
    "La fonction synonymes permet de récupérer les mots qui sont en relations r_syn (3) avec le mot dont on cherche les synonymes."
   ]
  },
  {
   "cell_type": "code",
   "execution_count": 8,
   "metadata": {},
   "outputs": [],
   "source": [
    "\n",
    "def synonymes(k):\n",
    "    try:\n",
    "        #connexion\n",
    "        mySQLconnection = mysql.connector.connect(host='localhost',\n",
    "                             database='jdm',\n",
    "                             user='user',\n",
    "                             password='pwd')\n",
    "        \n",
    "        #récupération de l'id du mot\n",
    "        sql_select_Query = \"select eid from nodes where n='\"+k+\"' order by w DESC limit 1\"\n",
    "        # on classe par w pour obtenir le mot avec le plus fort poids qui correspond au mot avec le plus de relations\n",
    "        cursor = mySQLconnection .cursor()\n",
    "        cursor.execute(sql_select_Query)\n",
    "        records = cursor.fetchall()\n",
    "        eid=records[0][0]\n",
    "        cursor.close()\n",
    "        \n",
    "        #récupération des id correspondant aux synonymes\n",
    "        id_syn = []\n",
    "        sql_select_Query = \"select n2 from relations where n1=\"+str(eid)+\" and t = 5\"\n",
    "        cursor = mySQLconnection .cursor()\n",
    "        cursor.execute(sql_select_Query)\n",
    "        records = cursor.fetchall()\n",
    "        for row in records :\n",
    "            id_syn.append(row[0])\n",
    "        cursor.close()\n",
    "        \n",
    "        #récupération des mots correspondants aux id des synonymes\n",
    "    except Error as e :\n",
    "        print (\"Error while connecting to MySQL\", e)\n",
    "        \n",
    "    return id_syn  # retourne les synonymes d'un mot sous format \"eid\""
   ]
  },
  {
   "cell_type": "markdown",
   "metadata": {},
   "source": [
    "## Algortihme complet: version simple"
   ]
  },
  {
   "cell_type": "markdown",
   "metadata": {},
   "source": [
    "Voici l'algorithme qui reprend l'ensemble des fonctions et qui à partir d'un mot (mot) et d'un champ lexical (ChLexic) renvoie les synonymes avec un score en fonction de leur pertinence par rapport au champ lexical."
   ]
  },
  {
   "cell_type": "code",
   "execution_count": 9,
   "metadata": {},
   "outputs": [],
   "source": [
    "def attribSyn(mot , ChLexic): # fonction qui à partir d'un mot et d'un champ lexical trouve les synonymes de ce mot\n",
    "    start_time = time.time()\n",
    "    Domaina=domaine(ChLexic) ## on cherche les domaines de notre champ lexical\n",
    "    #En entrée le champ lexical et en sortie liste de domaines au formad \"eid\"\n",
    "    DomainP=score_domaine(Domaina) # on attribue un score à chaque domaine\n",
    "    # retourne un dictionnaire avec les EID avec le score attribué\n",
    "    DomainPT=tri_dic(DomainP) # on trie notre dictionnaire de Domaine/score\n",
    "     \n",
    "    listSyn=synonymes(mot) # on va chercher les synonymes de notre mot\n",
    "    # en entrée mot est en string\n",
    "    #renvoie la liste des synonymes sous format eid\n",
    "    \n",
    "    final=dict()\n",
    "    \n",
    "    for i in listSyn: # pour chaque synonymes de ce mot\n",
    "        a=score_synonymes(i,DomainPT) # on va chercher ces domaines et on regarde ceux qui sont en rapport avec \n",
    "        final[i]=a\n",
    "    final2=tri_dic(final)\n",
    "    \n",
    "    \n",
    "    # on va maintenant aller chercher les N qui correspondent aux EID présents\n",
    "    L=dict()\n",
    "    for i in final2:\n",
    "        \n",
    "        mySQLconnection = mysql.connector.connect(host='localhost',\n",
    "                             database='jdm',\n",
    "                             user='user',\n",
    "                             password='pwd')\n",
    "        sql_select_Query = \"select n from nodes where eid=\"+str(i)+\" limit 1\"\n",
    "        \n",
    "        cursor = mySQLconnection .cursor()\n",
    "        cursor.execute(sql_select_Query)\n",
    "        records = cursor.fetchall()\n",
    "        L[records[0][0]]=final2[i]\n",
    "        cursor.close()\n",
    "        \n",
    "   \n",
    "    print(\"Temps d execution : %s secondes ---\" % (time.time() - start_time))\n",
    "    return L\n",
    "        \n",
    "    "
   ]
  },
  {
   "cell_type": "markdown",
   "metadata": {},
   "source": [
    "#### Tests de l'algorithme"
   ]
  },
  {
   "cell_type": "code",
   "execution_count": 10,
   "metadata": {
    "scrolled": true
   },
   "outputs": [
    {
     "name": "stdout",
     "output_type": "stream",
     "text": [
      "Temps d execution : 6.486617803573608 secondes ---\n"
     ]
    },
    {
     "data": {
      "text/plain": [
       "{'monter': 89,\n",
       " 'passer': 88,\n",
       " 'souffler': 80,\n",
       " 'tourner': 74,\n",
       " 'attaquer': 68,\n",
       " 'faire': 59,\n",
       " 'tenir': 58,\n",
       " 'pincer': 56,\n",
       " 'exécuter': 55,\n",
       " 'affecter': 49,\n",
       " 'pratiquer': 45,\n",
       " 'donner': 42,\n",
       " 'représenter': 38,\n",
       " 'manier': 34,\n",
       " 'exposer': 32,\n",
       " 'remuer': 31,\n",
       " 'badiner': 30,\n",
       " 'enlever': 30,\n",
       " 'rouler': 29,\n",
       " 'poser': 28,\n",
       " 'gratter': 28,\n",
       " 'toucher': 26,\n",
       " 'incarner': 25,\n",
       " 'jongler': 24,\n",
       " 'ponter': 23,\n",
       " 'tromper': 23,\n",
       " 'interpréter': 22,\n",
       " 'marcher': 21,\n",
       " 'intervenir': 21,\n",
       " 'refait': 20,\n",
       " 'mettre en scène': 18,\n",
       " 'simuler': 18,\n",
       " 'gondoler': 17,\n",
       " 'créer': 17,\n",
       " 'feinter': 16,\n",
       " 'roulé': 16,\n",
       " 'gauchir': 15,\n",
       " 'sonner': 15,\n",
       " 'ris': 15,\n",
       " 'singer': 14,\n",
       " 'flamber': 13,\n",
       " 'coulisser': 10,\n",
       " 'fonctionner': 10,\n",
       " 'posé': 10,\n",
       " 'compromettre': 9,\n",
       " 'user': 9,\n",
       " 'agité': 9,\n",
       " 'feindre': 8,\n",
       " 'agir': 8,\n",
       " 'abuser': 8,\n",
       " 'batifoler': 8,\n",
       " 'représenté': 8,\n",
       " 'musiquer': 8,\n",
       " 'parier': 6,\n",
       " 'figurer': 6,\n",
       " 'copier': 6,\n",
       " 'miser': 6,\n",
       " 'râcler': 5,\n",
       " 'racler': 5,\n",
       " 'imiter': 3,\n",
       " 'spéculer': 3,\n",
       " 'agiter': 2,\n",
       " 'mentir': 2,\n",
       " 'contrefaire': 1,\n",
       " 'boursicoter': 1,\n",
       " 'dupée': 0,\n",
       " 'mystifiant': 0,\n",
       " 'menti': 0,\n",
       " 'usa': 0,\n",
       " 'trompée': 0,\n",
       " 'simulant': 0,\n",
       " 'posant': 0,\n",
       " 'pinçant': 0,\n",
       " 'plaisante': 0,\n",
       " 'enlevant': 0,\n",
       " 'avoir du jeu': 0,\n",
       " 'aventurer': 0,\n",
       " 'se faire entendre': 0,\n",
       " 'plastronner': 0,\n",
       " 'pianoter': 0,\n",
       " 'influer': 0,\n",
       " 'flouer': 0,\n",
       " 'mimer': 0,\n",
       " 'tripoter': 0,\n",
       " 'taquiner': 0,\n",
       " 'se divertir': 0,\n",
       " \"s'ébrouer\": 0,\n",
       " \"s'entraîner\": 0,\n",
       " 'blaguer': 0,\n",
       " 'amuser': 0,\n",
       " \"s'ébattre\": 0,\n",
       " 'railler': 0,\n",
       " 'rire': 0,\n",
       " 'se mouvoir': 0,\n",
       " 'duper': 0,\n",
       " 'refaire': 0,\n",
       " 'mystifier': 0,\n",
       " 'plaisanter': 0,\n",
       " 'berner': 0,\n",
       " 'affectée': 0,\n",
       " 'reproduire': 0,\n",
       " 'risquer': 0,\n",
       " \"s'exercer\": 0,\n",
       " 'secouer': 0,\n",
       " 'regarder': 0,\n",
       " 'faire joujou': 0,\n",
       " 'hasarder': 0,\n",
       " 'folâtrer': 0,\n",
       " \"s'amuser\": 0}"
      ]
     },
     "execution_count": 10,
     "metadata": {},
     "output_type": "execute_result"
    }
   ],
   "source": [
    "attribSyn('jouer',ChLexiEcran)\n"
   ]
  },
  {
   "cell_type": "markdown",
   "metadata": {},
   "source": [
    "## Propositions d'améliorations"
   ]
  },
  {
   "cell_type": "markdown",
   "metadata": {},
   "source": [
    "#### Ajout des hyponymes avec la relation r_hypo (8)"
   ]
  },
  {
   "cell_type": "markdown",
   "metadata": {},
   "source": [
    "Dans une première amélioration, nous allons attribué un score aux mots qui sont en relation r_syn (3) mais également aux mots qui sont en relation r_hypo (8). Ce score est toujours calculé avec l'intersection des domaines.\n",
    "\n",
    "La fonction RelationHypo permet de chercher les mots qui sont en relation r_hypo avec le mot dont on cherche les synonymes."
   ]
  },
  {
   "cell_type": "code",
   "execution_count": 11,
   "metadata": {},
   "outputs": [],
   "source": [
    "def RelationHypo(A):\n",
    "    mySQLconnection= mysql.connector.connect(host='localhost',database='jdm',user='user',password='pwd')\n",
    "    sql_select_Query = \"select eid from nodes where n='\"+A+\"'limit 1\" \n",
    "    cursor = mySQLconnection .cursor()\n",
    "    cursor.execute(sql_select_Query)\n",
    "    records = cursor.fetchall()\n",
    "    cursor.close\n",
    "    \n",
    "    mySQLconnection= mysql.connector.connect(host='localhost',database='jdm',user='user',password='pwd')\n",
    "    sql2= \"select  n2 from relations where n1= \" +str(records[0][0])+\" and t=8\"\n",
    "    cursor=mySQLconnection.cursor()\n",
    "    cursor.execute(sql2)\n",
    "    records2=cursor.fetchall()\n",
    "    cursor.close()\n",
    "    B=[]\n",
    "    for i in records2:\n",
    "        B.append(i[0])\n",
    "   \n",
    "    return B # ressort les domaines d'un mot sous format \"eid\"\n"
   ]
  },
  {
   "cell_type": "markdown",
   "metadata": {},
   "source": [
    "La fonction attribSynHypo est la même que la fonction attribSyn( algorithme complet: version simple), cependant elle prend en compte également les hyponymes du mot: mot."
   ]
  },
  {
   "cell_type": "code",
   "execution_count": 16,
   "metadata": {},
   "outputs": [],
   "source": [
    "def attribSynHypo(mot , ChLexia): # fonction qui à partir d'un mot et d'un champ lexical trouve les synonymes de ce mot\n",
    "    start_time = time.time()\n",
    "    Domaina=domaine(ChLexia) ## on cherche les domaines de notre champ lexical\n",
    "    #En entrée le champ lexical et en sortie liste de domaines au formad \"eid\"\n",
    "    DomainP=score_domaine(Domaina) # on attribue un poids à chaque domaine\n",
    "    # retourne un dictionnaire avec les EID avec le POIDS attribué\n",
    "    DomainPT=tri_dic(DomainP) # on trie notre dictionnaire de Domaine/poids\n",
    "    # Trie le dictionnaire du dessus\n",
    "     \n",
    "    listSyn=synonymes(mot) # on va chercher les synonymes de notre mot\n",
    "    # en entrée mot est en string\n",
    "    #renvoie la liste des synonymes sous format eid\n",
    "    \n",
    "    listHypo=RelationHypo(mot)\n",
    "    for z in listHypo:\n",
    "        listSyn.append(z)\n",
    "    \n",
    "    final=dict()\n",
    "    \n",
    "    for i in listSyn: # pour chaque synonymes de ce mot\n",
    "        a=score_synonymes(i,DomainPT) # on va chercher ces domaines et on regarde ceux qui sont en rapport avec \n",
    "        final[i]=a\n",
    "    final2=tri_dic(final)\n",
    "    \n",
    "    \n",
    "    # on va maintenant aller chercher les n qui correspondent aux EID présents\n",
    "    L=dict()\n",
    "    for i in final2:\n",
    "        \n",
    "        mySQLconnection = mysql.connector.connect(host='localhost',\n",
    "                             database='jdm',\n",
    "                             user='user',\n",
    "                             password='pwd')\n",
    "        sql_select_Query = \"select n from nodes where eid=\"+str(i)+\" limit 1\"\n",
    "        \n",
    "        cursor = mySQLconnection .cursor()\n",
    "        cursor.execute(sql_select_Query)\n",
    "        records = cursor.fetchall()\n",
    "        L[records[0][0]]=final2[i]\n",
    "        cursor.close()\n",
    "        \n",
    "    print(\"Temps d execution : %s secondes ---\" % (time.time() - start_time))\n",
    "    return L"
   ]
  },
  {
   "cell_type": "markdown",
   "metadata": {},
   "source": [
    "Tests de l'algorithme"
   ]
  },
  {
   "cell_type": "code",
   "execution_count": 17,
   "metadata": {},
   "outputs": [
    {
     "name": "stdout",
     "output_type": "stream",
     "text": [
      "Temps d execution : 2.8440492153167725 secondes ---\n"
     ]
    },
    {
     "data": {
      "text/plain": [
       "{'soldes': 24,\n",
       " 'vente': 23,\n",
       " 'bénéfice': 23,\n",
       " 'liquidation': 22,\n",
       " 'compte': 20,\n",
       " 'solder': 17,\n",
       " 'prêt': 16,\n",
       " 'gain': 15,\n",
       " 'complément': 15,\n",
       " 'indemnité': 12,\n",
       " 'différence': 12,\n",
       " 'aubaine': 11,\n",
       " 'salaire': 11,\n",
       " 'reliquat': 10,\n",
       " 'règlement': 9,\n",
       " 'rémunération': 9,\n",
       " 'traitement': 9,\n",
       " 'récompense': 8,\n",
       " 'dette': 8,\n",
       " 'bilan': 8,\n",
       " 'payement': 7,\n",
       " 'crédit': 7,\n",
       " 'rabais': 7,\n",
       " 'paiement': 7,\n",
       " 'balance': 4,\n",
       " 'rétribution': 3,\n",
       " 'appointements': 3,\n",
       " 'reste': 3,\n",
       " 'restes': 2,\n",
       " 'salaires': 0,\n",
       " 'bazardage': 0,\n",
       " 'boom': 0,\n",
       " 'restant': 0,\n",
       " 'appoint': 0,\n",
       " 'occasion': 0,\n",
       " 'paye': 0,\n",
       " 'baisse': 0,\n",
       " 'traitement>65415': 0,\n",
       " 'paie': 0,\n",
       " 'avoir': 0}"
      ]
     },
     "execution_count": 17,
     "metadata": {},
     "output_type": "execute_result"
    }
   ],
   "source": [
    "attribSynHypo('solde',ChLexiMagasin)\n"
   ]
  },
  {
   "cell_type": "markdown",
   "metadata": {},
   "source": [
    "### Choix d'un raffinement sémantique en rapport avec le champ lexical"
   ]
  },
  {
   "cell_type": "markdown",
   "metadata": {},
   "source": [
    "La fonction RelationRaffSem permet de trouver les mots qui sont en relation r_raff_sem (1)."
   ]
  },
  {
   "cell_type": "code",
   "execution_count": 18,
   "metadata": {},
   "outputs": [],
   "source": [
    "def RelationRaffSem(A):\n",
    "    mySQLconnection= mysql.connector.connect(host='localhost',database='jdm',user='user',password='pwd')\n",
    "    sql_select_Query = \"select eid from nodes where n='\"+A+\"' order by w DESC limit 1\" # order by w DESC \n",
    "    cursor = mySQLconnection .cursor()\n",
    "    cursor.execute(sql_select_Query)\n",
    "    records = cursor.fetchall()\n",
    "    cursor.close\n",
    "    \n",
    "    mySQLconnection= mysql.connector.connect(host='localhost',database='jdm',user='user',password='pwd')\n",
    "    sql2= \"select  n2 from relations where n1= \" +str(records[0][0])+\" and t=1\"\n",
    "    cursor=mySQLconnection.cursor()\n",
    "    cursor.execute(sql2)\n",
    "    records2=cursor.fetchall()\n",
    "    cursor.close()\n",
    "    B=[]\n",
    "    C=[]\n",
    "    \n",
    "    for i in records2:\n",
    "        B.append(i[0])\n",
    "    \n",
    "    for z in B:\n",
    "        mySQLconnection= mysql.connector.connect(host='localhost',database='jdm',user='user',password='pwd')\n",
    "        sql_select_Query = \"select n from nodes where eid=\"+str(z) \n",
    "        cursor = mySQLconnection .cursor()\n",
    "        cursor.execute(sql_select_Query)\n",
    "        records6 = cursor.fetchall()\n",
    "        C.append(records6[0][0])\n",
    "        cursor.close()\n",
    "    D=[]\n",
    "    for i in C:\n",
    "#Pour les raffinements sémantique, le format N d'un mot est par exemple: 'sac>103076'\n",
    "# Ce qu'on souhaite récuperer c'est seulement l'eid : 103076 et donc enlever les premiers caractères\n",
    "        x=i\n",
    "        D.append( int (x[len(A)+1:]))\n",
    "        \n",
    "        \n",
    "        \n",
    "    \n",
    "    return D # ressort les domaines d'un mot sous format \"eid\"\n"
   ]
  },
  {
   "cell_type": "markdown",
   "metadata": {},
   "source": [
    "La fonction ChoixRaffSem permet à partir d'un mot et d'un champ lexical d'attribuer à chaque raffinement sémantique du mot un score."
   ]
  },
  {
   "cell_type": "code",
   "execution_count": 19,
   "metadata": {},
   "outputs": [],
   "source": [
    "def ChoixRaffSem(mot, ChLexia):\n",
    "    RaffSem=RelationRaffSem(mot)   \n",
    "    final=dict()\n",
    "    \n",
    "    Domaina=domaine(ChLexia) ## on cherche les domaines de notre champ lexical\n",
    "    #En entrée le champ lexical et en sortie liste de domaines au formad \"eid\"\n",
    "    DomainP=score_domaine(Domaina) # on attribue un poids à chaque domaine\n",
    "    # retourne un dictionnaire avec les EID avec le POIDS attribué\n",
    "    DomainPT=tri_dic(DomainP)\n",
    "    \n",
    "    for i in RaffSem: # pour chaque synonymes de ce mot\n",
    "        a=score_synonymes(i,DomainPT) # on va chercher ces domaines et on regarde ceux qui sont en rapport avec \n",
    "        final[i]=a\n",
    "    final2=tri_dic(final)\n",
    "    \n",
    "    \n",
    "    # on va maintenant aller chercher les n qui correspondent aux EID présents\n",
    "    L=dict()\n",
    "    for i in final2:\n",
    "        \n",
    "        mySQLconnection = mysql.connector.connect(host='localhost',\n",
    "                             database='jdm',\n",
    "                             user='user',\n",
    "                             password='pwd')\n",
    "        sql_select_Query = \"select n from nodes where eid=\"+str(i)+\" limit 1\"\n",
    "        \n",
    "        cursor = mySQLconnection .cursor()\n",
    "        cursor.execute(sql_select_Query)\n",
    "        records = cursor.fetchall()\n",
    "        L[records[0][0]]=final2[i]\n",
    "        cursor.close()\n",
    "        \n",
    "    print(final2)\n",
    "    return L\n",
    "    "
   ]
  },
  {
   "cell_type": "code",
   "execution_count": 20,
   "metadata": {},
   "outputs": [
    {
     "name": "stdout",
     "output_type": "stream",
     "text": [
      "{65415: 11, 41088: 10, 135128: 3}\n"
     ]
    },
    {
     "data": {
      "text/plain": [
       "{'salaire': 11, 'reliquat': 10, 'finances': 3}"
      ]
     },
     "execution_count": 20,
     "metadata": {},
     "output_type": "execute_result"
    }
   ],
   "source": [
    "ChoixRaffSem('solde', ChLexiMagasin)"
   ]
  },
  {
   "cell_type": "code",
   "execution_count": null,
   "metadata": {},
   "outputs": [],
   "source": []
  },
  {
   "cell_type": "code",
   "execution_count": null,
   "metadata": {},
   "outputs": [],
   "source": []
  }
 ],
 "metadata": {
  "celltoolbar": "Aucun(e)",
  "kernelspec": {
   "display_name": "Python 3",
   "language": "python",
   "name": "python3"
  },
  "language_info": {
   "codemirror_mode": {
    "name": "ipython",
    "version": 3
   },
   "file_extension": ".py",
   "mimetype": "text/x-python",
   "name": "python",
   "nbconvert_exporter": "python",
   "pygments_lexer": "ipython3",
   "version": "3.7.1"
  }
 },
 "nbformat": 4,
 "nbformat_minor": 2
}
