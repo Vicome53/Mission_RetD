{
 "cells": [
  {
   "cell_type": "markdown",
   "metadata": {},
   "source": [
    "# Algorithme des synonymes"
   ]
  },
  {
   "cell_type": "markdown",
   "metadata": {},
   "source": [
    "Voici l'algortihme que nous avons réalisé. A partir d'un mot et d'un champ lexical sous forme de liste cet algortihme ( la fonction AttribSyn ) renvoit la liste des synonymes de ce mot dans la sémantique du champ lexical.\n",
    "L'ensemble des fonctions sont nécessaire à notre Algorithme qui se trouve à la fin de ce code.\n",
    "Enfin des propostions d'ouvertures sont écrites à la fin."
   ]
  },
  {
   "cell_type": "markdown",
   "metadata": {},
   "source": [
    "#### Importation des packages\n"
   ]
  },
  {
   "cell_type": "code",
   "execution_count": 1,
   "metadata": {},
   "outputs": [],
   "source": [
    "import mysql.connector\n",
    "import time\n",
    "from mysql.connector import Error\n"
   ]
  },
  {
   "cell_type": "markdown",
   "metadata": {},
   "source": [
    "#### Liste de champs lexicaux "
   ]
  },
  {
   "cell_type": "code",
   "execution_count": 2,
   "metadata": {},
   "outputs": [],
   "source": [
    "ChLexi = ['banque', 'credit','virement'] \n",
    "ChLexiB=['crédit','bancaire','banquier','paiement','finance','monnaie','chèque','emprunt','dépôt','faillite','succursale','prêt','financier','monétaire','billet','taux','épargne','investissement','capital','dette']#champ lexical + mot recherché \n",
    "ChLexiBanque60=['crédit','bancaire','billet','banquier','emprunt','financier','paiement','investissement','prêt','coupure','chèque','monétaire','monnaie','dépôt','dette','finance','change','liquidité','taux','remboursement','transaction','inflation','financement','faillite','FMI','devise','dollar','capital','assurance','emprunteur','épargne','succursale','trésor','endettement','argent','Banco','compte','escompte','euro','krach','portefeuille','fiduciaire','central','caisse','commerçant','BCE','Fed','financière','entreprise','économiste','actionnaire','interbancaire','marché','opération', 'placement','papier-monnaie']\n",
    "ChLexiBanque120=['crédit','bancaire','billet','banquier','emprunt','financier','paiement','investissement','prêt','coupure','chèque','monétaire','monnaie','dépôt','dette','finance','change','liquidité','taux','remboursement','transaction','inflation','financement','faillite','FMI','devise','dollar','capital','assurance','emprunteur','épargne','succursale','trésor','endettement','argent','Banco','compte','escompte','euro','krach','portefeuille','fiduciaire','central','caisse','commerçant','BCE','Fed','financière','entreprise','économiste','actionnaire','interbancaire','marché','opération','placement','papier-monnaie','mondial','nationalisation','Nobel','milliard','investisseur','bénéficiaire','blanchiment','braquage','comptabilité','comptoir','convertibilité','caissier','BNP','économie','courtier','épargnant','eurodollar','intérêt','institution','mutualiste','Paribas','service','refinancement','numéraire','law','créancier','courtage','émission','directeur','bourse','commission','commercial','convertible','client','agence','ajustement','dévaluation','garantie','international','Minitel','joue','guichet','parité','PIB','récession','réserve','risque','Rothschild','solde','stabilisation','télématique','suède','structurel','spéculation','privatisation','vacance','virement','PNUD','OCDE','inflationniste','Keynes','microfinance','gouverneur','dépréciation','débiteur','déposant','Berd','Brothers','BIRD','charger'] \n",
    "ChLexiVoyage=['pèlerinage','périple','expédition','valise','malle','Inde','exploration','passage','récit','Chine','voyageur','compagnon','escale','bagage','touriste','tournée','odyssée','pèlerin','tourisme','voyagiste','voyager','préparatif','retour','navigation','agence','déplacement','épopée','second','souvenir','tome','noce','chèque','navigateur','page','géographique','explorateur','information','détroit','affaire','berline','biographie','Bordeaux','bourlingueur','campagne','cantine','errance','album’,’naufrage']\n",
    "ChLexiMeuble=['mobilier','tiroir','lit','table','armoire','commode','immeuble','appartement','ébéniste','laqué','tapisserie','étagère','bien','cabinet','coffre','buffet','ameublement','chaise','déménagement','tapissier','siège','placard','hôtellerie','locataire','marqueterie','panetière','piétement','saisie','crédence'] \n",
    "ChLexiJeux=['olympique','sport','échec','loterie','joueur','olympiade','billard','athlète','pion','poker','tennis','vidéo','casse-tête','backgammon','paume','hockey','hasard','casino','coupe','whist','pelote','puzzle','roulette','golf','handball','palet','course','divertissement','Domino','carte','badminton','belote','pétanque','tarot','Scrabble','arène','argent','manche','fléchette','meneur','ludique','mah-jong','arbitre','bridge','Baccara','boss','bowling']\n",
    "ChLexiLivre=['édition','Bible','imprimerie','exemplaire','reliure','bibliothèque','Apocalypse','Coran','libraire','librairie','sterling','testament','presse','intitulé','ex-libris','Évangile','couverture','lire','missel','nombre','registre','once','livret','incunable','catéchisme','apocryphe','recueil','volume','tenue','relié','proverbe','rayon','tonne','autodafé','carnet','bouquin','commentaire','chapitre','critique','carrière','censure','bibliographie','bibliophile','bréviaire','format','éditeur','imprimé','fragment','illustration','ouvrage','poche','manuel','méthode','préface','psaume','relier','traduction']\n",
    "ChLexiPain=['boulanger','four','mie','boulangerie','baguette','seigle','soupe','levain','aliment','épice','sandwich','nourriture','céréale','eucharistie','levure','tartine','biscuit','pâte','farine','vin','blé','miche','azyme','tranche','beurre','hostie','manger','croûton','viande','boulette','communion','hamburger','cuisson','noix','toast','transsubstantiation','galette','huche','sucre','gâteau','grille-pain','panetière','biscotte','Christ','miette','orge','panification','pâtisserie','pauvre','ration','consécration','croûte','cuit','froment' ]\n",
    "ChLexiEcran=['affichage','ordinateur','projection','moniteur','pixel','Cinema','vidéo','résolution','visualisation','film','curseur','caméra','adaptation','image','téléviseur','télévision','stylet','tablette','cathodique','cinématographique','clavier','bouton','Apple','pare-soleil','numérique','spectateur','réalisateur','projecteur','rafraichissement','portable','pouce','iPhone','iPod','LCD','manette','LED','sous-pixel','visualiser','tactile','interface','Macintosh','optique','adaptateur','appareil','diapositive','définition','comédien','cristal','icône','Chaplin','cinémascope','balayage','plasma','pointage','fente','téléfilm','surface','toile','WYSIWYG','souris','RVB','présentateur','rétro','viseur','visuel','information','IMAX','papier','afficheur','iMac','Game','ClearType','diode','blanc','mode','photo','sortie','sous-titre','séducteur','western','virtuel']\n",
    "ChLexiAutomobile=['auto','véhicule','circulation','Peugeot','Renault','voiture','moteur','Citroën','Ford','garage','Audi','essence','carrosserie','rallye','Porsche','parking','moto','Indianapolis','constructeur','course','berline','automobiliste','circuit','textile','prix','Daimler','aéronautique','agroalimentaire','volant','transport','Volvo','autoroute','écurie','motocyclette','Monaco','mécanicien','mécanique','pneu','Monza','diesel','Ferrari','firme','cabriolet','camion','autodrome','Volkswagen','autoradio','auto-école','Benz','Bugatti','BMW','fangio','Fiat','décapotable','capot','piste','sidérurgie','Michigan','Monte-Carlo','karting','Lamborghini','jeep','Mercedes-Benz','Michelin','Sochaux','SUV','stationnement','Panhard','parcmètre','PSA','chrome','formule','accessoire','Toyota','usine','utilitaire','Villeneuve','taxi','Ascari','break','équipementier','Chrysler','carrossier','racing','Prost','NASCAR','nissan','sport','routier','secteur','Senna','Mercedes','industrie','Lancia','Silverstone','route','châssis','chauffeur','freinage','expertise','bicyclette','Buick','Cadillac','camping-car','pneumatique']\n",
    "ChLexiCuisine=['ustensile','cuisinier','cuisinière','culinaire','plat','poêle','recette','cuisson','gastronomie','graisse','curry','persil','pâtisserie','ragoût','légume','aliment','aubergine','fruit','casserole','sauce','soja','oignon','ingrédient','repas','coriandre','épice','beignet','salade','noix','pain','soupe','vaisselle','sushi','ail','Escoffier','basilic','batterie','couscous','charcuterie','saveur','rôti','préparation','salle','spécialité','petit-gris','piment','passe-plat','nouille','kitchenette','condiment','évier','four','cuisinette','friture','goût','gâteau','cuisiner','assaisonnement','cerfeuil','lèchefrite','manger','marmiton','poisson','popote','tourtière','volaille','table','poulet','œuf','mixeur','citron','cuisiniste','cuillère','broche','gingembre','gastronomique','fourchette','fourneau','linge','gril','civet','pizza','restaurant','réfectoire','sarriette','semoule','Tian','vaisselier','tripe','tuerie','verre']\n",
    "ChLexiTravaux=['elicenciement','travailleur','chômage','emploi','labeur','atelier','rémunération','productivité','prolétaire','salaire','activité','agriculture','social','manuel','outil','production','ingénieur','étude','employeur','entreprise','horaire','professionnel','grève','joule','fordisme','Job','collectif','corvée','recherche','organisation','scientifique','réparation','syndicat','tâche','taylorisme','science','mécanique','ouvrage','collectivisme','achèvement','analyse','bâtiment','entrepreneur','énergie','ergothérapie','laborieux','bénédictin','agriculteur','chantier','capitalisme','condition','rendement','prolétariat','terrassement','repos','résultat','restauration','traduction','travailler','prestation','poterie','projet','Nobel','maçon','conducteur','cabinet','chômeur','commission','collaboration','bénévole','agricole','galerie','entretien','embauche','élaboration']\n",
    "ChLexiTéléphone=['téléphonique','téléphonie','communication','mobile','appareil','smartphone','télégraphe','sonnerie','voix','récepteur','réseau','messagerie','cellulaire','annuaire','coup','câble','Bell','message','haut-parleur','joignable','radio','recharge','bureau','transfert','usager','Telecom','conversation','électrique','Gaga','service','numéro','onde','SMS','phone','port','distance','fax','fil','fixe','bonjour','cadran','combiné','appel','téléphoniste','transmettre','visiophone','texto','bigophone','portabilité','portable','ordiphone','natel','écouteur','mobilophoner','kit mains libres','mercatique téléphonique','iPhone']\n",
    "ChLexiMagasin=['boutique','supermarché','vitrine','entrepôt','distribution','achat','hypermarché','épicerie','vendeur','vêtement','stock','halle','approvisionnement','commercial','confection','librairie','munition','rayon','restaurant','galerie','marchandise','client','carrefour','nouveauté','bricolage','clientèle','chargeur','confiserie','animalerie','centre-ville','magasinier','immeuble','papeterie','poudrière','shopping' ]\n",
    "ChLexiPaysage=['site','paysagiste','peinture','bocage','colline','forêt','montagne','lande','beauté','photographie','peintre','patrimoine','toile','dessin','aspect','fond','jardin','panorama','tableau','pittoresque','portrait','paysager','vue','nature','cascade','champ','bucolique','panoramique','végétation','rural','pastel','horizon','impressionnisme','impressionniste','fabrique','dessiner','beau','karst','openfield','naturalité','savane','sujet','paysagisme','peindre','Hiroshige','physionomie','terrain','végétalisation','poussin','projection','représentant','rivière','méditerranéen','monotonie','genre','grandiose','anémomorphose','aquarelle','caractère','écosculpture','figure','coloris','contemplation','cross-country']\n",
    "ChLexiForêt=['sapin','clairière','forestier','chêne','lisière','savane','bois','hêtre','sauvage','déforestation','futaie','sylviculture','taïga','agriculture','arbre','pin','prairie','faune','Fontainebleau','cerf','chasse','défrichement','jungle','massif','mèche','écosystème','hectare','tropical','végétation','biodiversité','mangrove','conifère','écureuil','hêtraie','paysage','Amazonie','bocage','couvert','montagne','ours','sous-bois','taillis','boisement','canopée','chevreuil','eucalyptus','mandrin','pente','perceuse','plateau','sentier','sylvestre','altitude','bûcheron','buisson','humide','loup','marécage','naturel','parc','pinède','sanglier','tronc','garrigue','lande','toundra','amazonien','bouleau','épicéa','feu','Forest','mélèze','orée','rivière','terrain','érablière','foresterie','liane','route','sapinière','chantilly','châtaignier','dryade','sapin','clairière','forestier','chêne','lisière','savane','bois','hêtre','sauvage','déforestation','futaie','sylviculture','taïga','agriculture','arbre','pin','prairie','faune','Fontainebleau','cerf','chasse','défrichement','jungle','massif','mèche','écosystème','hectare','tropical','végétation','biodiversité','mangrove','conifère','écureuil','hêtraie','paysage','Amazonie','bocage','couvert','montagne','ours','sous-bois','taillis','boisement','canopée','chevreuil','eucalyptus','mandrin','pente','perceuse','plateau','sentier','sylvestre','altitude','bûcheron','buisson','humide','loup','marécage','naturel','parc','pinède','sanglier','tronc','garrigue','lande','toundra','trou','amazonien','bouleau','épicéa','feu','Forest','mélèze','orée','rivière','terrain','érablière','foresterie','liane','route','sapinière','chantilly','châtaignier','dryade','écologique','essence','fourré','fraise','lac','pâturage','résineux','vaste','bambou','biche','broussaille','désert','fleuve','Guyane','habitat','Oise','peuplement','Saint-Germain-en-Laye','troll','agricole','broche','charbonnier','dense','élevage']\n",
    "ChLexiAvion=['Pilote','aviation','décollage','altitude','fuselage','hélice','aéroport','parachute','hélicoptère','passager','moteur','pilotage','air','appareillé','aéronautique','cabine','supersonique','cockpit','missile','accident','aérodynamique','chasseur','piloter','transport','aérodrome','portance','crash','escale','carlingue','décoller','cargo','atterrir','véhicule','Airbus','kérosène','piste','soute','steward','destination','moyen-courrier','taxi','embarquer','long-courrier','billet','copilote','drone','bagage-cabine','passeport','retard','poste','hublot','hydravion']\n",
    "ChLexiVacances=['intérim','tourisme','touriste','scolaire','loisir','colonie','résidence','week-end','séjour','présidence','camping','adolescent','destination','monsieur','Noël','hôtel','enfance','garçon','pâque','vacancier','démission','régale','rentré','semaine','ski','stage','plage','saisonnier','départ','accueil','familial','enfant','hasard','bungalow','congé','empêchement','colo','duo','élection','décès','oncle','grand-parent','Vosges','repos','touristique','tournage','trousseau','tonne','prétexte','visiteur','vive','épiscopal','hâte','hébergement','inspection','instituteur','chic','animateur','atout','dimanche','estiver','grande vacance','jobiste','juilletiste']"
   ]
  },
  {
   "cell_type": "markdown",
   "metadata": {},
   "source": [
    "###  Fonction domaine et domaineMot\n"
   ]
  },
  {
   "cell_type": "markdown",
   "metadata": {},
   "source": [
    "##### Fonction domaine"
   ]
  },
  {
   "cell_type": "markdown",
   "metadata": {},
   "source": [
    "La fonction domaine prend en argument la liste comprenant le champ lexical. Celle ci renvoie une liste comprenant les mots qui sont en relation r_domain avec les mots du champ lexical. Nous appelerons ces mots issues de la relation r_domain des domaines. Chaque domaine est présent autant de fois qu'il est en relation r_domain avec les mots du champ lexical."
   ]
  },
  {
   "cell_type": "code",
   "execution_count": 3,
   "metadata": {},
   "outputs": [],
   "source": [
    "def domaine(A): #fonction qui prend la liste de mots du ChLexi et renvoie la liste des domaines.\n",
    "    Y1 = []\n",
    "    B= []\n",
    "    try:\n",
    "        mySQLconnection = mysql.connector.connect(host='localhost',\n",
    "                             database='jdm',\n",
    "                             user='user',\n",
    "                             password='pwd')\n",
    "        for k in A : \n",
    "            sql_select_Query = \"select eid from nodes where n='\"+k+\"' limit 1\"  # récupération des eid correspondant aux mots présent dans le champs lexical\n",
    "            cursor = mySQLconnection .cursor()\n",
    "            cursor.execute(sql_select_Query)\n",
    "            records = cursor.fetchall()\n",
    "            for row in records :\n",
    "                Y1.append(row[0])\n",
    "            cursor.close() \n",
    "        for  k in Y1 :\n",
    "            sql_select_Query = \"select n2 from relations where n1=\"+str(k)+\" and t = 3\"\n",
    "            cursor = mySQLconnection .cursor() # récupération des mots qui sont en relation r_domain avec l'eid k\n",
    "            cursor.execute(sql_select_Query)\n",
    "            records = cursor.fetchall()\n",
    "            for row in records :\n",
    "                B.append(row[0])\n",
    "            cursor.close()\n",
    "        \n",
    "    except Error as e :\n",
    "        print (\"Error while connecting to MySQL\", e)\n",
    "    \n",
    "    return B # Ressort une liste des mots en relation r_domain avec les mots composant le champ lexical sous format \"eid\""
   ]
  },
  {
   "cell_type": "markdown",
   "metadata": {},
   "source": [
    "##### Domaine1Mot"
   ]
  },
  {
   "cell_type": "markdown",
   "metadata": {},
   "source": [
    "La fonction domaine1Mot renvoie les mots qui sont en relation r-domain avec notre mot A ( au format eid )"
   ]
  },
  {
   "cell_type": "code",
   "execution_count": 4,
   "metadata": {},
   "outputs": [],
   "source": [
    "def domaine1Mot(A): # retourne le domaine d'un mot qui est sous format eid.\n",
    "    mySQLconnection= mysql.connector.connect(host='localhost',database='jdm',user='user',password='pwd')\n",
    "    sql2= \"select  n2 from relations where n1= \" +str(A)+\" and t=3\"\n",
    "    cursor=mySQLconnection.cursor()\n",
    "    cursor.execute(sql2)\n",
    "    records2=cursor.fetchall()\n",
    "    cursor.close()\n",
    "    B=[]\n",
    "    for i in records2:\n",
    "        B.append(i[0])\n",
    "    return B # ressort les domaines d'un mot sous format \"eid\" \n",
    "    "
   ]
  },
  {
   "cell_type": "markdown",
   "metadata": {},
   "source": [
    "### Attributions d'un score aux domaines et aux synonymes du mot recherché"
   ]
  },
  {
   "cell_type": "markdown",
   "metadata": {},
   "source": [
    "La fonction score_domaine attribue un score aux domaines en fonction du nombre d'occurence de ce dernier dans la liste issue de la fonction domaine."
   ]
  },
  {
   "cell_type": "code",
   "execution_count": 5,
   "metadata": {},
   "outputs": [],
   "source": [
    "def score_domaine(A): \n",
    "\n",
    "    B= dict()\n",
    "    for k in A :\n",
    "        if k not in B : # on ajoute 1 à chaque fois que le domaine apparait !\n",
    "            B[k]=1\n",
    "        else :\n",
    "            B[k]+=1 \n",
    "    return B      # ressort un dictionnaires avec comme définition l'eid du domaine et comme valeur son poids     \n"
   ]
  },
  {
   "cell_type": "markdown",
   "metadata": {},
   "source": [
    "La fonction tri_dic_syn permet de trier le dictionnaires des domaines en fonction de leur score"
   ]
  },
  {
   "cell_type": "code",
   "execution_count": 6,
   "metadata": {},
   "outputs": [],
   "source": [
    "def tri_dic_syn(DictDomain) : # permet de trier le dictionnaire des domaines\n",
    "    liste_dico = sorted(DictDomain.items(), key=lambda t: t[1])\n",
    "    liste_dico.reverse()\n",
    "    vMax=liste_dico[0][1]\n",
    "   \n",
    "    dico2 = dict()\n",
    "    for i in range(len(liste_dico)):\n",
    "        dico2[liste_dico[i][0]] = liste_dico[i][1]/vMax # ici on divise par vMax afin de normaliser les résultats\n",
    "    return dico2 # permet de trier le dico et le ressort de la même manière\n"
   ]
  },
  {
   "cell_type": "markdown",
   "metadata": {},
   "source": [
    "La fonction tri_dic2 permet de trier le dictionnaire mais attribue des valeurs allant de 100 à 0 aux 10 premiers domaines et 0 aux autres."
   ]
  },
  {
   "cell_type": "code",
   "execution_count": 7,
   "metadata": {},
   "outputs": [],
   "source": [
    "def tri_dic_dom(DictDomain) : # permet de trier le dictionnaire des domaines\n",
    "    liste_dico = sorted(DictDomain.items(), key=lambda t: t[1])\n",
    "    liste_dico.reverse()\n",
    "    liste_dico2=[(liste_dico[i][0],(100-10*i)) for i in range(10)] # les 10 premiers domaines obtiennent 100 puis 90 puis 80 etc...\n",
    "    # on peut très bien donner un score à chaque domaine en laissant liste_dico[i][1] for i in range(len(liste_dico))\n",
    "    dico2 = dict()\n",
    "    for i in range(len(liste_dico2)):\n",
    "        dico2[liste_dico2[i][0]] = liste_dico2[i][1]\n",
    "    return dico2 # permet de trier le dico et le ressort de la même manière\n"
   ]
  },
  {
   "cell_type": "markdown",
   "metadata": {},
   "source": [
    "La fonction score_synonymes calcule le score d'un synonyme du mot recherché en regardant ses domaines et en les comparant au dictionnaire qui associe chaque dommaine à son score. Si un domaine est en commun, on ajoute le score associé au domaine au score du synonymes. "
   ]
  },
  {
   "cell_type": "code",
   "execution_count": 8,
   "metadata": {},
   "outputs": [],
   "source": [
    "def score_synonymes (syn,score_Y): # calcule le score d'un syonyme du mot recherché\n",
    "    L=domaine1Mot(syn) # on prend les domaines d'un mot au format EID\n",
    "    score_mots=0\n",
    "    for i in L:\n",
    "        if i in score_Y:\n",
    "            score_mots+=score_Y[i]\n",
    "    return score_mots # retourne le score d'un mot au format int    \n",
    "                \n",
    "                "
   ]
  },
  {
   "cell_type": "markdown",
   "metadata": {},
   "source": [
    "La fonction synonymes permet de récupérer les mots qui sont en relations r_syn (3) avec le mot dont on cherche les synonymes."
   ]
  },
  {
   "cell_type": "code",
   "execution_count": 9,
   "metadata": {},
   "outputs": [],
   "source": [
    "\n",
    "def synonymes(k):\n",
    "    try:\n",
    "        #connexion\n",
    "        mySQLconnection = mysql.connector.connect(host='localhost',\n",
    "                             database='jdm',\n",
    "                             user='user',\n",
    "                             password='pwd')\n",
    "        \n",
    "        #récupération de l'id du mot\n",
    "        sql_select_Query = \"select eid from nodes where n='\"+k+\"' order by w DESC limit 1\"\n",
    "        # on classe par w pour obtenir le mot avec le plus fort poids qui correspond au mot avec le plus de relations\n",
    "        cursor = mySQLconnection .cursor()\n",
    "        cursor.execute(sql_select_Query)\n",
    "        records = cursor.fetchall()\n",
    "        eid=records[0][0]\n",
    "        cursor.close()\n",
    "        \n",
    "        #récupération des id correspondant aux synonymes\n",
    "        id_syn = []\n",
    "        w_syn=[]\n",
    "        sql_select_Query = \"select n2,w from relations where n1=\"+str(eid)+\" and t = 5\"\n",
    "        cursor = mySQLconnection .cursor()\n",
    "        cursor.execute(sql_select_Query)\n",
    "        records = cursor.fetchall()\n",
    "        for row in records :\n",
    "            id_syn.append(row[0])\n",
    "            w_syn.append(row[1])\n",
    "        cursor.close()\n",
    "        \n",
    "        #récupération des mots correspondants aux id des synonymes\n",
    "    except Error as e :\n",
    "        print (\"Error while connecting to MySQL\", e)\n",
    "        \n",
    "    return id_syn,w_syn  # retourne les synonymes d'un mot sous format \"eid\" (id_syn) ainsi que le poids de la relation (w_syn)"
   ]
  },
  {
   "cell_type": "markdown",
   "metadata": {},
   "source": [
    "## Algortihme complet: version simple"
   ]
  },
  {
   "cell_type": "markdown",
   "metadata": {},
   "source": [
    "Voici l'algorithme qui reprend l'ensemble des fonctions et qui à partir d'un mot (mot) et d'un champ lexical (ChLexic) renvoie les synonymes avec un score en fonction de leur pertinence par rapport au champ lexical."
   ]
  },
  {
   "cell_type": "code",
   "execution_count": 10,
   "metadata": {},
   "outputs": [],
   "source": [
    "def attribSyn(mot , ChLexic): # fonction qui à partir d'un mot et d'un champ lexical trouve les synonymes de ce mot\n",
    "    start_time = time.time()\n",
    "    Domaina=domaine(ChLexic) ## on cherche les domaines de notre champ lexical\n",
    "    #En entrée le champ lexical et en sortie liste de domaines au formad \"eid\"\n",
    "    DomainP=score_domaine(Domaina) # on attribue un score à chaque domaine\n",
    "    # retourne un dictionnaire avec les EID avec le score attribué\n",
    "    DomainPT=tri_dic_dom(DomainP) # on trie notre dictionnaire de Domaine/score\n",
    "     \n",
    "    listSyn=synonymes(mot) # on va chercher les synonymes de notre mot\n",
    "    # en entrée mot est en string\n",
    "    #renvoie la liste des synonymes sous format eid\n",
    "    \n",
    "    final=dict()\n",
    "    \n",
    "    for i in listSyn[0]: # pour chaque synonymes de ce mot\n",
    "        a=score_synonymes(i,DomainPT) # on va chercher ces domaines et on regarde ceux qui sont en rapport avec \n",
    "        final[i]=a\n",
    "    final2=tri_dic_syn(final)\n",
    "    \n",
    "    \n",
    "    # on va maintenant aller chercher les N qui correspondent aux EID présents\n",
    "    L=dict()\n",
    "    for i in final2:\n",
    "        \n",
    "        mySQLconnection = mysql.connector.connect(host='localhost',\n",
    "                             database='jdm',\n",
    "                             user='user',\n",
    "                             password='pwd')\n",
    "        sql_select_Query = \"select n from nodes where eid=\"+str(i)+\" limit 1\"\n",
    "        \n",
    "        cursor = mySQLconnection .cursor()\n",
    "        cursor.execute(sql_select_Query)\n",
    "        records = cursor.fetchall()\n",
    "        L[records[0][0]]=final2[i]\n",
    "        cursor.close()\n",
    "        \n",
    "   \n",
    "    print(\"Temps d execution : %s secondes ---\" % (time.time() - start_time))\n",
    "    return L\n",
    "        \n",
    "    "
   ]
  },
  {
   "cell_type": "code",
   "execution_count": 11,
   "metadata": {},
   "outputs": [],
   "source": [
    "def attribSyn9(mot , ChLexic): # fonction qui à partir d'un mot et d'un champ lexical trouve les synonymes de ce mot\n",
    "    start_time = time.time()\n",
    "    Domaina=domaine(ChLexic) ## on cherche les domaines de notre champ lexical\n",
    "    #En entrée le champ lexical et en sortie liste de domaines au formad \"eid\"\n",
    "    DomainP=score_domaine(Domaina) # on attribue un score à chaque domaine\n",
    "    # retourne un dictionnaire avec les EID avec le score attribué\n",
    "    DomainPT=tri_dic_dom(DomainP) # on trie notre dictionnaire de Domaine/score\n",
    "     \n",
    "    listSyn=synonymes(mot) # on va chercher les synonymes de notre mot\n",
    "    # en entrée mot est en string\n",
    "    #renvoie la liste des synonymes sous format eid\n",
    "    \n",
    "    final=dict()\n",
    "    \n",
    "    for i in range(len(listSyn[0])): # pour chaque synonymes de ce mot\n",
    "        a=score_synonymes(listSyn[0][i],DomainPT) # on va chercher ces domaines et on regarde ceux qui sont en rapport avec \n",
    "        final[listSyn[0][i]]=a+(listSyn[1][i]/3) # ici on prend le poids de la relation synonyme en compte\n",
    "        # ce poids est divisé par 3 , nombre choisi aléatoirement, il y a moyens d'optimiser ici\n",
    "    final2=tri_dic_syn(final)\n",
    "\n",
    "    \n",
    "    \n",
    "    # on va maintenant aller chercher les N qui correspondent aux EID présents\n",
    "    L=dict()\n",
    "    for i in final2:\n",
    "        \n",
    "        mySQLconnection = mysql.connector.connect(host='localhost',\n",
    "                             database='jdm',\n",
    "                             user='user',\n",
    "                             password='pwd')\n",
    "        sql_select_Query = \"select n from nodes where eid=\"+str(i)+\" limit 1\"\n",
    "        \n",
    "        cursor = mySQLconnection .cursor()\n",
    "        cursor.execute(sql_select_Query)\n",
    "        records = cursor.fetchall()\n",
    "        L[records[0][0]]=final2[i]\n",
    "        cursor.close()\n",
    "        \n",
    "   \n",
    "    print(\"Temps d execution : %s secondes ---\" % (time.time() - start_time))\n",
    "    return L\n",
    "        "
   ]
  },
  {
   "cell_type": "markdown",
   "metadata": {},
   "source": [
    "La fonction attribSyn9 a le même but que la première version attribSyn, cependant cette deuxième version prend en compte les poids des relations"
   ]
  },
  {
   "cell_type": "markdown",
   "metadata": {},
   "source": [
    "#### Tests de l'algorithme"
   ]
  },
  {
   "cell_type": "code",
   "execution_count": 37,
   "metadata": {
    "scrolled": true
   },
   "outputs": [
    {
     "name": "stdout",
     "output_type": "stream",
     "text": [
      "Temps d execution : 10.088300704956055 secondes ---\n"
     ]
    },
    {
     "data": {
      "text/plain": [
       "{'rouler': 1.0,\n",
       " 'voler': 0.9749303621169917,\n",
       " 'prendre': 0.8913649025069638,\n",
       " 'enlever': 0.8356545961002785,\n",
       " 'rallier': 0.8328690807799443,\n",
       " 'comporter': 0.7520891364902507,\n",
       " 'porter': 0.7520891364902507,\n",
       " 'forcer': 0.7437325905292479,\n",
       " 'devancer': 0.24512534818941503,\n",
       " 'rompre': 0.24512534818941503,\n",
       " 'rafler': 0.23676880222841223,\n",
       " 'submerger': 0.23676880222841223,\n",
       " 'acquérir': 0.233983286908078,\n",
       " 'balayer': 0.23119777158774374,\n",
       " 'ratiboiser': 0.2256267409470752,\n",
       " 'pousser': 0.2256267409470752,\n",
       " 'charrier': 0.22005571030640667,\n",
       " 'remporter': 0.21727019498607242,\n",
       " 'traîner': 0.21448467966573817,\n",
       " 'attirer': 0.2116991643454039,\n",
       " \"s'emparer\": 0.2116991643454039,\n",
       " 'arracher': 0.2116991643454039,\n",
       " 'bercer': 0.1671309192200557,\n",
       " 'enflammer': 0.1671309192200557,\n",
       " 'emmener': 0.1671309192200557,\n",
       " 'transporter': 0.1671309192200557,\n",
       " 'gagner': 0.1671309192200557,\n",
       " 'renfermer': 0.16434540389972147,\n",
       " 'ratisser': 0.16434540389972147,\n",
       " 'supprimer': 0.16434540389972147,\n",
       " 'éparpiller': 0.16155988857938716,\n",
       " 'piller': 0.16155988857938716,\n",
       " 'couper': 0.16155988857938716,\n",
       " 'exterminer': 0.15877437325905291,\n",
       " 'impliquer': 0.15598885793871867,\n",
       " 'triompher': 0.15598885793871867,\n",
       " 'entraîner': 0.15598885793871867,\n",
       " 'dévaster': 0.1532033426183844,\n",
       " 'tuer': 0.1532033426183844,\n",
       " 'détruire': 0.1532033426183844,\n",
       " 'embarquer': 0.14763231197771587,\n",
       " 'ravir': 0.14763231197771587,\n",
       " 'conquérir': 0.14763231197771587,\n",
       " 'soustraire': 0.1448467966573816,\n",
       " 'vaincre': 0.1448467966573816,\n",
       " 'anéantir': 0.1448467966573816,\n",
       " 'obtenir': 0.1448467966573816,\n",
       " 'apporter': 0.09749303621169915,\n",
       " 'entrainer': 0.0947075208913649,\n",
       " 'trimbaler': 0.08077994428969358,\n",
       " 'trimballer': 0.07520891364902507,\n",
       " 'entraîner>16810': 0.013927576601671309,\n",
       " 'supprimée': -0.011142061281337046,\n",
       " 'poussé': -0.011142061281337046,\n",
       " 'poussant': -0.016713091922005572,\n",
       " 'enlevant': -0.016713091922005572,\n",
       " 'porté': -0.04735376044568245,\n",
       " 'pris': -0.05013927576601671,\n",
       " 'renfermé': -0.05013927576601671,\n",
       " 'rompu': -0.05013927576601671,\n",
       " 'roulé': -0.05013927576601671}"
      ]
     },
     "execution_count": 37,
     "metadata": {},
     "output_type": "execute_result"
    }
   ],
   "source": [
    "attribSyn9('emporter' , ChLexiAvion)\n"
   ]
  },
  {
   "cell_type": "markdown",
   "metadata": {},
   "source": [
    "### Métrique pour mesurer la qualité des réponses"
   ]
  },
  {
   "cell_type": "markdown",
   "metadata": {},
   "source": [
    "La fonction mesureQ permet de sommer l'ensemble des scores des mots attendu dans le contexte du transport de bagage dans un avion."
   ]
  },
  {
   "cell_type": "code",
   "execution_count": 48,
   "metadata": {},
   "outputs": [],
   "source": [
    "def mesureQ(mot, ChampLex,dataset):\n",
    "    L=attribSyn9(mot, ChampLex)\n",
    "    score =0\n",
    "    tot=0\n",
    "    for i in L:\n",
    "        if L[i]>0:\n",
    "            tot+=L[i]\n",
    "            \n",
    "    for i in L:\n",
    "        if i in dataset:\n",
    "            score= score + L[i]\n",
    "    score_norm= score/tot # pour normaliser\n",
    "    return L,score_norm\n",
    "        "
   ]
  },
  {
   "cell_type": "code",
   "execution_count": 49,
   "metadata": {},
   "outputs": [
    {
     "name": "stdout",
     "output_type": "stream",
     "text": [
      "Temps d execution : 10.340131282806396 secondes ---\n"
     ]
    },
    {
     "data": {
      "text/plain": [
       "({'rouler': 1.0,\n",
       "  'voler': 0.9749303621169917,\n",
       "  'prendre': 0.8913649025069638,\n",
       "  'enlever': 0.8356545961002785,\n",
       "  'rallier': 0.8328690807799443,\n",
       "  'comporter': 0.7520891364902507,\n",
       "  'porter': 0.7520891364902507,\n",
       "  'forcer': 0.7437325905292479,\n",
       "  'devancer': 0.24512534818941503,\n",
       "  'rompre': 0.24512534818941503,\n",
       "  'rafler': 0.23676880222841223,\n",
       "  'submerger': 0.23676880222841223,\n",
       "  'acquérir': 0.233983286908078,\n",
       "  'balayer': 0.23119777158774374,\n",
       "  'ratiboiser': 0.2256267409470752,\n",
       "  'pousser': 0.2256267409470752,\n",
       "  'charrier': 0.22005571030640667,\n",
       "  'remporter': 0.21727019498607242,\n",
       "  'traîner': 0.21448467966573817,\n",
       "  'attirer': 0.2116991643454039,\n",
       "  \"s'emparer\": 0.2116991643454039,\n",
       "  'arracher': 0.2116991643454039,\n",
       "  'bercer': 0.1671309192200557,\n",
       "  'enflammer': 0.1671309192200557,\n",
       "  'emmener': 0.1671309192200557,\n",
       "  'transporter': 0.1671309192200557,\n",
       "  'gagner': 0.1671309192200557,\n",
       "  'renfermer': 0.16434540389972147,\n",
       "  'ratisser': 0.16434540389972147,\n",
       "  'supprimer': 0.16434540389972147,\n",
       "  'éparpiller': 0.16155988857938716,\n",
       "  'piller': 0.16155988857938716,\n",
       "  'couper': 0.16155988857938716,\n",
       "  'exterminer': 0.15877437325905291,\n",
       "  'impliquer': 0.15598885793871867,\n",
       "  'triompher': 0.15598885793871867,\n",
       "  'entraîner': 0.15598885793871867,\n",
       "  'dévaster': 0.1532033426183844,\n",
       "  'tuer': 0.1532033426183844,\n",
       "  'détruire': 0.1532033426183844,\n",
       "  'embarquer': 0.14763231197771587,\n",
       "  'ravir': 0.14763231197771587,\n",
       "  'conquérir': 0.14763231197771587,\n",
       "  'soustraire': 0.1448467966573816,\n",
       "  'vaincre': 0.1448467966573816,\n",
       "  'anéantir': 0.1448467966573816,\n",
       "  'obtenir': 0.1448467966573816,\n",
       "  'apporter': 0.09749303621169915,\n",
       "  'entrainer': 0.0947075208913649,\n",
       "  'trimbaler': 0.08077994428969358,\n",
       "  'trimballer': 0.07520891364902507,\n",
       "  'entraîner>16810': 0.013927576601671309,\n",
       "  'supprimée': -0.011142061281337046,\n",
       "  'poussé': -0.011142061281337046,\n",
       "  'poussant': -0.016713091922005572,\n",
       "  'enlevant': -0.016713091922005572,\n",
       "  'porté': -0.04735376044568245,\n",
       "  'pris': -0.05013927576601671,\n",
       "  'renfermé': -0.05013927576601671,\n",
       "  'rompu': -0.05013927576601671,\n",
       "  'roulé': -0.05013927576601671},\n",
       " 0.14579256360078283)"
      ]
     },
     "execution_count": 49,
     "metadata": {},
     "output_type": "execute_result"
    }
   ],
   "source": [
    "mesureQ('emporter', ChLexiAvion,['transporter','apporter','comporter','emporter','emmener','mettre','placer','voyager','prendre','ramener'])"
   ]
  },
  {
   "cell_type": "markdown",
   "metadata": {},
   "source": [
    "## Propositions d'améliorations"
   ]
  },
  {
   "cell_type": "markdown",
   "metadata": {},
   "source": [
    "#### Ajout des hyponymes avec la relation r_hypo (8)"
   ]
  },
  {
   "cell_type": "markdown",
   "metadata": {},
   "source": [
    "Dans une première amélioration, nous allons attribué un score aux mots qui sont en relation r_syn (3) mais également aux mots qui sont en relation r_hypo (8). Ce score est toujours calculé avec l'intersection des domaines.\n",
    "\n",
    "La fonction RelationHypo permet de chercher les mots qui sont en relation r_hypo avec le mot dont on cherche les synonymes."
   ]
  },
  {
   "cell_type": "code",
   "execution_count": 25,
   "metadata": {},
   "outputs": [],
   "source": [
    "def RelationHypo(A):\n",
    "    mySQLconnection= mysql.connector.connect(host='localhost',database='jdm',user='user',password='pwd')\n",
    "    sql_select_Query = \"select eid from nodes where n='\"+A+\"'limit 1\" \n",
    "    cursor = mySQLconnection .cursor()\n",
    "    cursor.execute(sql_select_Query)\n",
    "    records = cursor.fetchall()\n",
    "    cursor.close\n",
    "    \n",
    "    mySQLconnection= mysql.connector.connect(host='localhost',database='jdm',user='user',password='pwd')\n",
    "    sql2= \"select  n2 from relations where n1= \" +str(records[0][0])+\" and t=8\"\n",
    "    cursor=mySQLconnection.cursor()\n",
    "    cursor.execute(sql2)\n",
    "    records2=cursor.fetchall()\n",
    "    cursor.close()\n",
    "    B=[]\n",
    "    for i in records2:\n",
    "        B.append(i[0])\n",
    "   \n",
    "    return B # ressort les domaines d'un mot sous format \"eid\"\n"
   ]
  },
  {
   "cell_type": "markdown",
   "metadata": {},
   "source": [
    "La fonction attribSynHypo est la même que la fonction attribSyn( algorithme complet: version simple), cependant elle prend en compte également les hyponymes du mot: mot."
   ]
  },
  {
   "cell_type": "code",
   "execution_count": 26,
   "metadata": {},
   "outputs": [],
   "source": [
    "def attribSynHypo(mot , ChLexia): # fonction qui à partir d'un mot et d'un champ lexical trouve les synonymes de ce mot\n",
    "    start_time = time.time()\n",
    "    Domaina=domaine(ChLexia) ## on cherche les domaines de notre champ lexical\n",
    "    #En entrée le champ lexical et en sortie liste de domaines au formad \"eid\"\n",
    "    DomainP=score_domaine(Domaina) # on attribue un poids à chaque domaine\n",
    "    # retourne un dictionnaire avec les EID avec le POIDS attribué\n",
    "    DomainPT=tri_dic_dom(DomainP) # on trie notre dictionnaire de Domaine/poids\n",
    "    # Trie le dictionnaire du dessus\n",
    "     \n",
    "    listSyn=synonymes(mot) # on va chercher les synonymes de notre mot\n",
    "    # en entrée mot est en string\n",
    "    #renvoie la liste des synonymes sous format eid\n",
    "    \n",
    "    listHypo=RelationHypo(mot)\n",
    "    for z in listHypo:\n",
    "        listSyn[0].append(z)\n",
    "    \n",
    "    final=dict()\n",
    "    \n",
    "    for i in range(len(listSyn[0])): # pour chaque synonymes de ce mot\n",
    "        a=score_synonymes(listSyn[0][i],DomainPT) # on va chercher ces domaines et on regarde ceux qui sont en rapport avec \n",
    "        final[listSyn[0][i]]=a\n",
    "    final2=tri_dic_syn(final)\n",
    "    \n",
    "    \n",
    "    # on va maintenant aller chercher les n qui correspondent aux EID présents\n",
    "    L=dict()\n",
    "    for i in final2:\n",
    "        \n",
    "        mySQLconnection = mysql.connector.connect(host='localhost',\n",
    "                             database='jdm',\n",
    "                             user='user',\n",
    "                             password='pwd')\n",
    "        sql_select_Query = \"select n from nodes where eid=\"+str(i)+\" limit 1\"\n",
    "        \n",
    "        cursor = mySQLconnection .cursor()\n",
    "        cursor.execute(sql_select_Query)\n",
    "        records = cursor.fetchall()\n",
    "        L[records[0][0]]=final2[i]\n",
    "        cursor.close()\n",
    "        \n",
    "    print(\"Temps d execution : %s secondes ---\" % (time.time() - start_time))\n",
    "    return L"
   ]
  },
  {
   "cell_type": "markdown",
   "metadata": {},
   "source": [
    "Tests de l'algorithme"
   ]
  },
  {
   "cell_type": "code",
   "execution_count": 27,
   "metadata": {},
   "outputs": [
    {
     "name": "stdout",
     "output_type": "stream",
     "text": [
      "Temps d execution : 10.657867670059204 secondes ---\n"
     ]
    },
    {
     "data": {
      "text/plain": [
       "{'rouler': 1.0,\n",
       " 'voler': 0.9,\n",
       " 'rallier': 0.8,\n",
       " 'enlever': 0.8,\n",
       " 'prendre': 0.8,\n",
       " 'comporter': 0.7,\n",
       " 'forcer': 0.7,\n",
       " 'porter': 0.7,\n",
       " 'devancer': 0.1,\n",
       " 'acquérir': 0.1,\n",
       " 'balayer': 0.1,\n",
       " 'rompre': 0.1,\n",
       " '::>13:61490>29:16810': 0.0,\n",
       " '::>13:74860>29:16810': 0.0,\n",
       " '::>13:3461>29:16810': 0.0,\n",
       " '::>13:68439>29:16810': 0.0,\n",
       " 'supprimée': 0.0,\n",
       " 'poussant': 0.0,\n",
       " 'enlevant': 0.0,\n",
       " 'entrainer': 0.0,\n",
       " 'porté': 0.0,\n",
       " 'poussé': 0.0,\n",
       " 'pris': 0.0,\n",
       " 'renfermé': 0.0,\n",
       " 'rompu': 0.0,\n",
       " 'roulé': 0.0,\n",
       " 'éparpiller': 0.0,\n",
       " 'bercer': 0.0,\n",
       " 'exterminer': 0.0,\n",
       " 'renfermer': 0.0,\n",
       " 'dévaster': 0.0,\n",
       " 'enflammer': 0.0,\n",
       " 'impliquer': 0.0,\n",
       " 'piller': 0.0,\n",
       " 'ratisser': 0.0,\n",
       " 'tuer': 0.0,\n",
       " 'couper': 0.0,\n",
       " 'soustraire': 0.0,\n",
       " 'triompher': 0.0,\n",
       " 'détruire': 0.0,\n",
       " 'embarquer': 0.0,\n",
       " 'vaincre': 0.0,\n",
       " 'supprimer': 0.0,\n",
       " 'ravir': 0.0,\n",
       " 'anéantir': 0.0,\n",
       " 'conquérir': 0.0,\n",
       " 'trimbaler': 0.0,\n",
       " 'trimballer': 0.0,\n",
       " 'entraîner>16810': 0.0,\n",
       " 'ratiboiser': 0.0,\n",
       " 'rafler': 0.0,\n",
       " 'traîner': 0.0,\n",
       " 'charrier': 0.0,\n",
       " 'submerger': 0.0,\n",
       " 'pousser': 0.0,\n",
       " 'attirer': 0.0,\n",
       " \"s'emparer\": 0.0,\n",
       " 'arracher': 0.0,\n",
       " 'remporter': 0.0,\n",
       " 'apporter': 0.0,\n",
       " 'obtenir': 0.0,\n",
       " 'entraîner': 0.0,\n",
       " 'emmener': 0.0,\n",
       " 'transporter': 0.0,\n",
       " 'gagner': 0.0}"
      ]
     },
     "execution_count": 27,
     "metadata": {},
     "output_type": "execute_result"
    }
   ],
   "source": [
    "attribSynHypo('emporter',ChLexiAvion)\n"
   ]
  },
  {
   "cell_type": "markdown",
   "metadata": {},
   "source": [
    "### Choix d'un raffinement sémantique en rapport avec le champ lexical"
   ]
  },
  {
   "cell_type": "markdown",
   "metadata": {},
   "source": [
    "La fonction RelationRaffSem permet de trouver les mots qui sont en relation r_raff_sem (1)."
   ]
  },
  {
   "cell_type": "code",
   "execution_count": null,
   "metadata": {},
   "outputs": [],
   "source": [
    "def RelationRaffSem(A):\n",
    "    mySQLconnection= mysql.connector.connect(host='localhost',database='jdm',user='user',password='pwd')\n",
    "    sql_select_Query = \"select eid from nodes where n='\"+A+\"' order by w DESC limit 1\" # order by w DESC \n",
    "    cursor = mySQLconnection .cursor()\n",
    "    cursor.execute(sql_select_Query)\n",
    "    records = cursor.fetchall()\n",
    "    cursor.close\n",
    "    \n",
    "    mySQLconnection= mysql.connector.connect(host='localhost',database='jdm',user='user',password='pwd')\n",
    "    sql2= \"select  n2 from relations where n1= \" +str(records[0][0])+\" and t=1\"\n",
    "    cursor=mySQLconnection.cursor()\n",
    "    cursor.execute(sql2)\n",
    "    records2=cursor.fetchall()\n",
    "    cursor.close()\n",
    "    B=[]\n",
    "    C=[]\n",
    "    \n",
    "    for i in records2:\n",
    "        B.append(i[0])\n",
    "    \n",
    "    for z in B:\n",
    "        mySQLconnection= mysql.connector.connect(host='localhost',database='jdm',user='user',password='pwd')\n",
    "        sql_select_Query = \"select n from nodes where eid=\"+str(z) \n",
    "        cursor = mySQLconnection .cursor()\n",
    "        cursor.execute(sql_select_Query)\n",
    "        records6 = cursor.fetchall()\n",
    "        C.append(records6[0][0])\n",
    "        cursor.close()\n",
    "    D=[]\n",
    "    for i in C:\n",
    "#Pour les raffinements sémantique, le format N d'un mot est par exemple: 'sac>103076'\n",
    "# Ce qu'on souhaite récuperer c'est seulement l'eid : 103076 et donc enlever les premiers caractères\n",
    "        x=i\n",
    "        D.append( int (x[len(A)+1:]))\n",
    "        \n",
    "        \n",
    "        \n",
    "    \n",
    "    return D # ressort les domaines d'un mot sous format \"eid\"\n"
   ]
  },
  {
   "cell_type": "markdown",
   "metadata": {},
   "source": [
    "La fonction ChoixRaffSem permet à partir d'un mot et d'un champ lexical d'attribuer à chaque raffinement sémantique du mot un score."
   ]
  },
  {
   "cell_type": "code",
   "execution_count": null,
   "metadata": {},
   "outputs": [],
   "source": [
    "def ChoixRaffSem(mot, ChLexia):\n",
    "    RaffSem=RelationRaffSem(mot)   \n",
    "    final=dict()\n",
    "    \n",
    "    Domaina=domaine(ChLexia) ## on cherche les domaines de notre champ lexical\n",
    "    #En entrée le champ lexical et en sortie liste de domaines au formad \"eid\"\n",
    "    DomainP=score_domaine(Domaina) # on attribue un poids à chaque domaine\n",
    "    # retourne un dictionnaire avec les EID avec le POIDS attribué\n",
    "    DomainPT=tri_dic(DomainP)\n",
    "    \n",
    "    for i in RaffSem: # pour chaque synonymes de ce mot\n",
    "        a=score_synonymes(i,DomainPT) # on va chercher ces domaines et on regarde ceux qui sont en rapport avec \n",
    "        final[i]=a\n",
    "    final2=tri_dic(final)\n",
    "    \n",
    "    \n",
    "    # on va maintenant aller chercher les n qui correspondent aux EID présents\n",
    "    L=dict()\n",
    "    for i in final2:\n",
    "        \n",
    "        mySQLconnection = mysql.connector.connect(host='localhost',\n",
    "                             database='jdm',\n",
    "                             user='user',\n",
    "                             password='pwd')\n",
    "        sql_select_Query = \"select n from nodes where eid=\"+str(i)+\" limit 1\"\n",
    "        \n",
    "        cursor = mySQLconnection .cursor()\n",
    "        cursor.execute(sql_select_Query)\n",
    "        records = cursor.fetchall()\n",
    "        L[records[0][0]]=final2[i]\n",
    "        cursor.close()\n",
    "        \n",
    "    print(final2)\n",
    "    return L\n",
    "    "
   ]
  },
  {
   "cell_type": "code",
   "execution_count": null,
   "metadata": {},
   "outputs": [],
   "source": [
    "ChoixRaffSem('solde', ChLexiMagasin)"
   ]
  },
  {
   "cell_type": "code",
   "execution_count": null,
   "metadata": {},
   "outputs": [],
   "source": []
  },
  {
   "cell_type": "code",
   "execution_count": null,
   "metadata": {},
   "outputs": [],
   "source": []
  },
  {
   "cell_type": "code",
   "execution_count": null,
   "metadata": {},
   "outputs": [],
   "source": []
  }
 ],
 "metadata": {
  "celltoolbar": "Aucun(e)",
  "kernelspec": {
   "display_name": "Python 3",
   "language": "python",
   "name": "python3"
  },
  "language_info": {
   "codemirror_mode": {
    "name": "ipython",
    "version": 3
   },
   "file_extension": ".py",
   "mimetype": "text/x-python",
   "name": "python",
   "nbconvert_exporter": "python",
   "pygments_lexer": "ipython3",
   "version": "3.7.1"
  }
 },
 "nbformat": 4,
 "nbformat_minor": 2
}
